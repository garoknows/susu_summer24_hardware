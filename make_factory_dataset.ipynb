{
 "cells": [
  {
   "cell_type": "code",
   "execution_count": 3,
   "metadata": {},
   "outputs": [
    {
     "name": "stdout",
     "output_type": "stream",
     "text": [
      "Total number of frames: 37440\n",
      "End of video file reached at frame count: 56\n",
      "Saved 56 frames to C:/Users/MSI/Documents/GitHub/susu_summer24/factory dataset/folder\n"
     ]
    }
   ],
   "source": [
    "import cv2\n",
    "import os\n",
    "\n",
    "# Define the video file path and output folder\n",
    "video_file = 'F:/gopro/folder/0877/GOPR0877.mp4'\n",
    "output_folder = 'C:/Users/MSI/Documents/GitHub/susu_summer24/factory dataset/folder'\n",
    "\n",
    "# Create the output folder if it doesn't exist\n",
    "if not os.path.exists(output_folder):\n",
    "    os.makedirs(output_folder)\n",
    "\n",
    "# Open the video file\n",
    "cap = cv2.VideoCapture(video_file)\n",
    "\n",
    "# Check if the video file opened successfully\n",
    "if not cap.isOpened():\n",
    "    print(\"Error: Could not open video file.\")\n",
    "    exit()\n",
    "\n",
    "# Get the total number of frames in the video\n",
    "total_frames = int(cap.get(cv2.CAP_PROP_FRAME_COUNT))\n",
    "print(f\"Total number of frames: {total_frames}\")\n",
    "\n",
    "frame_count = 0\n",
    "\n",
    "# Read and save frames\n",
    "while True:\n",
    "    ret, frame = cap.read()\n",
    "\n",
    "    if not ret:\n",
    "        print(f\"End of video file reached at frame count: {frame_count}\")\n",
    "        break\n",
    "\n",
    "    # Save the frame as an image file\n",
    "    frame_filename = os.path.join(output_folder, f'frame_{frame_count:04d}.jpg')\n",
    "    cv2.imwrite(frame_filename, frame)\n",
    "\n",
    "    frame_count += 1\n",
    "\n",
    "cap.release()\n",
    "print(f\"Saved {frame_count} frames to {output_folder}\")\n"
   ]
  },
  {
   "cell_type": "code",
   "execution_count": 12,
   "metadata": {},
   "outputs": [
    {
     "name": "stdout",
     "output_type": "stream",
     "text": [
      "Augmentation complete.\n"
     ]
    }
   ],
   "source": [
    "import os\n",
    "from torchvision import transforms\n",
    "from PIL import Image\n",
    "\n",
    "# Path to the folder containing images\n",
    "input_folder = 'C:/Users/MSI/Documents/GitHub/susu_summer24/factory dataset/folder'\n",
    "\n",
    "# Path to output augmented images\n",
    "output_folder = 'C:/Users/MSI/Documents/GitHub/susu_summer24/factory dataset/folder_augmented'\n",
    "\n",
    "# Create output folder if it doesn't exist\n",
    "if not os.path.exists(output_folder):\n",
    "    os.makedirs(output_folder)\n",
    "\n",
    "# Define transformations for augmentation\n",
    "transform = transforms.Compose([\n",
    "    transforms.RandomRotation(20),  # Rotate images randomly up to 20 degrees\n",
    "    transforms.RandomHorizontalFlip(),  # Flip images horizontally with a 50% chance\n",
    "    transforms.ColorJitter(brightness=0.2, contrast=0.2, saturation=0.2, hue=0.1),  # Adjust brightness, contrast, saturation, and hue\n",
    "    #transforms.RandomResizedCrop(size=(256, 256), scale=(0.8, 1.0)),  # Randomly crop and resize to 256x256 pixels\n",
    "    transforms.RandomAffine(degrees=0, translate=(0.1, 0.1)),  # Random affine transformation (translation)\n",
    "    transforms.ToTensor(),  # Convert PIL image to PyTorch tensor (HWC to CHW)\n",
    "])\n",
    "\n",
    "# List all files in the input folder\n",
    "image_files = [os.path.join(input_folder, f) for f in os.listdir(input_folder) if os.path.isfile(os.path.join(input_folder, f))]\n",
    "\n",
    "# Loop through each image file\n",
    "for image_file in image_files:\n",
    "    # Load the image\n",
    "    img = Image.open(image_file)\n",
    "\n",
    "    # Apply transformations\n",
    "    for i in range(2):  # Generate 2 augmented images per original image\n",
    "        augmented_img = transform(img)\n",
    "\n",
    "        # Save augmented image\n",
    "        output_file = os.path.join(output_folder, f'aug_{os.path.basename(image_file).split(\".\")[0]}_{i}.jpg')\n",
    "        transforms.functional.to_pil_image(augmented_img).save(output_file)\n",
    "\n",
    "print(\"Augmentation complete.\")\n"
   ]
  }
 ],
 "metadata": {
  "kernelspec": {
   "display_name": "Python 3",
   "language": "python",
   "name": "python3"
  },
  "language_info": {
   "codemirror_mode": {
    "name": "ipython",
    "version": 3
   },
   "file_extension": ".py",
   "mimetype": "text/x-python",
   "name": "python",
   "nbconvert_exporter": "python",
   "pygments_lexer": "ipython3",
   "version": "3.11.0"
  }
 },
 "nbformat": 4,
 "nbformat_minor": 2
}
