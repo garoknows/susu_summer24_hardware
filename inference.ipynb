{
 "cells": [
  {
   "cell_type": "code",
   "execution_count": null,
   "metadata": {},
   "outputs": [],
   "source": [
    "import cv2\n",
    "from ultralytics import YOLO\n",
    "import matplotlib.pyplot as plt\n",
    "\n",
    "# Define the path to your trained YOLO model weights (best.pt)\n",
    "#model_path = 'C:/Users/MSI/Documents/GitHub/susu_summer24/runs/detect/train10/weights/last.pt'\n",
    "\n",
    "#model_path = '/home/tarekz/Desktop/susu_summer24/runs/detect/train16/weights/last.pt'\n",
    "model_path= '/home/tarekz/Desktop/susu_summer24/trained_models/fol.pt'\n",
    "\n",
    "# Load the trained YOLO model\n",
    "model = YOLO(model_path)\n",
    "\n",
    "# Function to perform inference on a single image\n",
    "def infer_single_image(model, image_path):\n",
    "    # Load the image using OpenCV\n",
    "    img = cv2.imread(image_path)\n",
    "    if img is None:\n",
    "        print(f\"Error: Unable to read image '{image_path}'\")\n",
    "        return\n",
    "    \n",
    "    # Perform inference\n",
    "    results = model(img)\n",
    "    \n",
    "    # Iterate through each result in the list\n",
    "    for result in results[0].boxes:\n",
    "        x1, y1, x2, y2 = map(int, result.xyxy[0])  # Extract the bounding box coordinates\n",
    "        conf = result.conf.item()  # Convert tensor to float\n",
    "        cls = result.cls.item()  # Convert tensor to int\n",
    "\n",
    "    # Draw the bounding box\n",
    "        cv2.rectangle(img, (x1, y1), (x2, y2), (255, 0, 0), 2)  # Blue box with thickness 2\n",
    "        cv2.putText(img, f'{model.names[int(cls)]} {conf:.2f}', (x1, y1 - 10),\n",
    "                cv2.FONT_HERSHEY_SIMPLEX, 0.9, (255, 0, 0), 2)  # Label with confidence\n",
    "    \n",
    "    # Display the annotated image\n",
    "        cv2.imshow('Annotated Image', img)\n",
    "        cv2.waitKey(0)\n",
    "        cv2.destroyAllWindows()\n",
    "\n",
    "    plt.imshow(img)\n",
    "    plt.axis('off')\n",
    "    plt.show()\n",
    "\n",
    "# Example usage with your specific image path\n",
    "#image_path = 'C:/Users/MSI/Documents/GitHub/susu_summer24/factory_dataset/yolo_label/dataset/images/train/1ad8d484-aug_frame_0005_0.jpg'\n",
    "\n",
    "#image_path = 'C:/Users/MSI/Documents/GitHub/susu_summer24/factory_dataset/folder/frame_0001.jpg'\n",
    "image_path = '/home/tarekz/Desktop/susu_summer24/factory_dataset/folder/frame_0001.jpg'\n",
    "infer_single_image(model, image_path)\n",
    "\n"
   ]
  }
 ],
 "metadata": {
  "kernelspec": {
   "display_name": "Python 3",
   "language": "python",
   "name": "python3"
  },
  "language_info": {
   "codemirror_mode": {
    "name": "ipython",
    "version": 3
   },
   "file_extension": ".py",
   "mimetype": "text/x-python",
   "name": "python",
   "nbconvert_exporter": "python",
   "pygments_lexer": "ipython3",
   "version": "3.10.12"
  }
 },
 "nbformat": 4,
 "nbformat_minor": 2
}
